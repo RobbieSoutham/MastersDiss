{
 "cells": [
  {
   "cell_type": "code",
   "execution_count": 6,
   "id": "bca8b7c0",
   "metadata": {},
   "outputs": [
    {
     "name": "stderr",
     "output_type": "stream",
     "text": [
      "C:\\Users\\rjsou\\AppData\\Local\\Programs\\Python\\Python310\\lib\\site-packages\\torch\\_masked\\__init__.py:223: UserWarning: Failed to initialize NumPy: module compiled against API version 0xf but this version of numpy is 0xe (Triggered internally at  ..\\torch\\csrc\\utils\\tensor_numpy.cpp:68.)\n",
      "  example_input = torch.tensor([[-3, -2, -1], [0, 1, 2]])\n"
     ]
    },
    {
     "ename": "ModuleNotFoundError",
     "evalue": "No module named 'tdqm'",
     "output_type": "error",
     "traceback": [
      "\u001b[1;31m---------------------------------------------------------------------------\u001b[0m",
      "\u001b[1;31mModuleNotFoundError\u001b[0m                       Traceback (most recent call last)",
      "Input \u001b[1;32mIn [6]\u001b[0m, in \u001b[0;36m<cell line: 2>\u001b[1;34m()\u001b[0m\n\u001b[0;32m      1\u001b[0m \u001b[38;5;28;01mimport\u001b[39;00m \u001b[38;5;21;01mtorch\u001b[39;00m\n\u001b[1;32m----> 2\u001b[0m \u001b[38;5;28;01mfrom\u001b[39;00m \u001b[38;5;21;01mtdqm\u001b[39;00m \u001b[38;5;28;01mimport\u001b[39;00m trange\n\u001b[0;32m      4\u001b[0m \u001b[38;5;66;03m# 704 samples produced. Input is the y values of the signal\u001b[39;00m\n\u001b[0;32m      5\u001b[0m \u001b[38;5;28;01mclass\u001b[39;00m \u001b[38;5;21;01mCNN1D\u001b[39;00m(torch\u001b[38;5;241m.\u001b[39mnn\u001b[38;5;241m.\u001b[39mModule, inDim\u001b[38;5;241m=\u001b[39m\u001b[38;5;241m704\u001b[39m, outDim\u001b[38;5;241m=\u001b[39m\u001b[38;5;241m6\u001b[39m):\n",
      "\u001b[1;31mModuleNotFoundError\u001b[0m: No module named 'tdqm'"
     ]
    }
   ],
   "source": [
    "import torch\n",
    "from tdqm import trange\n",
    "\n",
    "# 704 samples produced. Input is the y values of the signal\n",
    "class CNN1D(torch.nn.Module, inDim=704, outDim=6):\n",
    "    def __init__(self):\n",
    "        super(Network, self).__init__()\n",
    "        \n",
    "        self.conv1 = torch.nn.Conv1d(in_channels=inDim,\n",
    "                            out_channels=8,\n",
    "                            kernel_size=3)\n",
    "        self.rel1 = torch.nn.ReLU()\n",
    "        \n",
    "        self.maxpool1 = torch.nn.MaxPool1d()\n",
    "        \n",
    "        self.conv2 = torch.nn.Conv1d(in_channels=numChannels,\n",
    "                            out_channels=32,\n",
    "                            kernel_size=5)\n",
    "                            \n",
    "        self.maxpool1 = torch.nn.MaxPool1d()\n",
    "                            \n",
    "        self.flt = torch.nn.Flatten()\n",
    "        self.out = torch.nn.utils.weight_norm(nn.Linear(cha_po_2, num_targets))\n",
    "    \n",
    "    def forward(self, x):\n",
    "        x = self.conv1\n",
    "        x = self.relu1(x)\n",
    "        x = self.maxpool1(x)\n",
    "        x = self.conf2(x)\n",
    "        x = self.flt(x)\n",
    "        output = self.out\n",
    "                            \n",
    "        return x\n",
    "                            \n",
    "                            \n",
    "def train(data, net, LR=0.5, epochs=30):\n",
    "    device = torch.device(\"cuda:0\" if torch.cuda.is_available() else \"cpu\") \n",
    "    net.to(device)\n",
    "    \n",
    "    torch.optim.Adam(net.parameters(), lr=LR)\n",
    "                            \n",
    "    accuracies = []\n",
    "    losses = []\n",
    "    for epoch in trange(epochs):\n",
    "        loss = 0\n",
    "        predictions = []\n",
    "        for sample in tqdm(data):\n",
    "            inp, out = data\n",
    "            optimizer.zero_grad()\n",
    "            \n",
    "            predicted = net(x)\n",
    "            cost = torch.nn.MSELoss(predicted, out)\n",
    "            cost.backward()\n",
    "            optimizer.step()\n",
    "\n",
    "            loss += cost.item()\n",
    "        \n",
    "        \n",
    "        mse = torch.nn.MSELoss(predictions, data[:, 1]).item()\n",
    "        accuracies.append(np.sqrt(mse))\n",
    "        losses.append(loss)\n",
    "            \n",
    "            \n",
    "  \n",
    "    return accuracies, losses\n",
    "\n",
    "def test(data, net):\n",
    "    device = torch.device(\"cuda:0\" if torch.cuda.is_available() else \"cpu\") \n",
    "    net.to(device)\n",
    "    net.eval()\n",
    "    \n",
    "    predictions = []\n",
    "    with torch.no_grad():\n",
    "        for data in tdqm(data):\n",
    "            inp, out = data\n",
    "            predicted = net(inp)\n",
    "            \n",
    "            predictions.append(predicted)\n",
    "    \n",
    "    mse = torch.nn.MSELoss(predictions, data[:, 1]).item()\n",
    "    accuracy = np.sqrt(mse)\n",
    "    \n",
    "    return accuracy\n",
    "\n",
    "                            \n",
    "                            \n",
    "                        \n",
    "        "
   ]
  },
  {
   "cell_type": "code",
   "execution_count": null,
   "id": "1fcbbd84",
   "metadata": {},
   "outputs": [],
   "source": [
    "!pip install "
   ]
  }
 ],
 "metadata": {
  "kernelspec": {
   "display_name": "Python 3 (ipykernel)",
   "language": "python",
   "name": "python3"
  },
  "language_info": {
   "codemirror_mode": {
    "name": "ipython",
    "version": 3
   },
   "file_extension": ".py",
   "mimetype": "text/x-python",
   "name": "python",
   "nbconvert_exporter": "python",
   "pygments_lexer": "ipython3",
   "version": "3.10.9"
  }
 },
 "nbformat": 4,
 "nbformat_minor": 5
}

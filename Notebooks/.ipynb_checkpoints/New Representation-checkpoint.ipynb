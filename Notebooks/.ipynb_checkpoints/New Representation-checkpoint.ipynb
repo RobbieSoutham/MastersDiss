{
 "cells": [
  {
   "cell_type": "code",
   "execution_count": 5,
   "id": "e4be6cec",
   "metadata": {},
   "outputs": [],
   "source": [
    "import pickle\n",
    "import numpy as np\n",
    "import matplotlib.pyplot as plt\n",
    "import os\n",
    "import pandas as pd\n",
    "from scipy.interpolate import interp1d\n",
    "from torch.utils.data import Dataset\n",
    "from torch import tensor"
   ]
  },
  {
   "cell_type": "markdown",
   "id": "0358d3ae",
   "metadata": {},
   "source": [
    "# Dataset"
   ]
  },
  {
   "cell_type": "code",
   "execution_count": 6,
   "id": "19bcb8c3",
   "metadata": {},
   "outputs": [],
   "source": [
    "# Folder name will correspond to index of sample\n",
    "class Data(Dataset):\n",
    "    def __init__(self, signalFolder, sampleFile, runs, steps=128):\n",
    "        # Load both disp1 and disp2 from each folder\n",
    "        # Folders ordered according to index of sample\n",
    "        # Use the corresponding sample as y -> append probe?\n",
    "        self.input = []\n",
    "        self.output = []\n",
    "        \n",
    "        with open(f\"{sampleFile}\", \"rb\") as f:\n",
    "             samples = pickle.load(f)\n",
    "\n",
    "        self.min = [min(np.array(samples[runs])[:, i]) for i in range(6)]\n",
    "        self.max = [max(np.array(samples[runs])[:, i]) for i in range(6)]\n",
    "        \n",
    "        for run in runs: #os.listdir(f\"{signalFolder}/\"):  \n",
    "            inp = []\n",
    "            fail = False\n",
    "            \n",
    "            files = os.listdir(f\"{signalFolder}/{run}/\")\n",
    "            \n",
    "            if files != ['Disp1.csv', 'Disp2.csv']:\n",
    "                continue\n",
    "            \n",
    "            for file in files:\n",
    "                a = pd.read_csv(f\"{signalFolder}/{run}/{file}\")\n",
    "                a.rename(columns = {'0':'x', '0.1': 'y'}, inplace = True)\n",
    "                \n",
    "                if a['x'].max() != 7.0:\n",
    "                    fail = True\n",
    "                    break\n",
    "                #a = pd.concat([pd.DataFrame([[0,0.1]], columns=a.columns), a], ignore_index=True)\n",
    "                \n",
    "\n",
    "                # Interpolate curve for consistent x values\n",
    "                xNew = np.linspace(0, 7, num=steps, endpoint=False)\n",
    "                interped = interp1d(a['x'], a['y'], kind='cubic', fill_value=\"extrapolate\")(xNew)\n",
    "                    \n",
    "                \n",
    "                inp.append(list(interped))\n",
    "            \n",
    "            if not fail:\n",
    "                if len(inp) != 2:\n",
    "                    raise Exception(\"sdf\")\n",
    "                #print(inp[0])\n",
    "                #raise Exception(\"sdf\")\n",
    "\n",
    "                self.input.append(inp)\n",
    "                self.output.append(samples[int(run)])\n",
    "        \n",
    "        self.output = tensor(self.output)\n",
    "        self.input = tensor(self.input)\n",
    "        \n",
    "    def __len__(self):\n",
    "        return len(self.output)\n",
    "    \n",
    "    def __getitem__(self, idx):\n",
    "        sample = {\"input\": self.input[idx], \"output\": self.output[idx]}\n",
    "        return sample"
   ]
  },
  {
   "cell_type": "code",
   "execution_count": 13,
   "id": "07f24da9",
   "metadata": {},
   "outputs": [
    {
     "ename": "FileNotFoundError",
     "evalue": "[WinError 3] The system cannot find the path specified: 'C:/Users/rjsou/Documents/MastersDiss/Notebooks/Data'",
     "output_type": "error",
     "traceback": [
      "\u001b[1;31m---------------------------------------------------------------------------\u001b[0m",
      "\u001b[1;31mFileNotFoundError\u001b[0m                         Traceback (most recent call last)",
      "Input \u001b[1;32mIn [13]\u001b[0m, in \u001b[0;36m<cell line: 1>\u001b[1;34m()\u001b[0m\n\u001b[1;32m----> 1\u001b[0m \u001b[43mos\u001b[49m\u001b[38;5;241;43m.\u001b[39;49m\u001b[43mlistdir\u001b[49m\u001b[43m(\u001b[49m\u001b[38;5;124;43m\"\u001b[39;49m\u001b[38;5;124;43mC:/Users/rjsou/Documents/MastersDiss/Notebooks/Data\u001b[39;49m\u001b[38;5;124;43m\"\u001b[39;49m\u001b[43m)\u001b[49m\n",
      "\u001b[1;31mFileNotFoundError\u001b[0m: [WinError 3] The system cannot find the path specified: 'C:/Users/rjsou/Documents/MastersDiss/Notebooks/Data'"
     ]
    }
   ],
   "source": [
    "os.listdir(\"C:/Users/rjsou/Documents/MastersDiss/Notebooks/Data\")"
   ]
  },
  {
   "cell_type": "code",
   "execution_count": 15,
   "id": "5718c28b",
   "metadata": {},
   "outputs": [
    {
     "ename": "EOFError",
     "evalue": "Ran out of input",
     "output_type": "error",
     "traceback": [
      "\u001b[1;31m---------------------------------------------------------------------------\u001b[0m",
      "\u001b[1;31mEOFError\u001b[0m                                  Traceback (most recent call last)",
      "Input \u001b[1;32mIn [15]\u001b[0m, in \u001b[0;36m<cell line: 1>\u001b[1;34m()\u001b[0m\n\u001b[0;32m      1\u001b[0m \u001b[38;5;28;01mwith\u001b[39;00m \u001b[38;5;28mopen\u001b[39m(\u001b[38;5;124m\"\u001b[39m\u001b[38;5;124mfiltered.pkl\u001b[39m\u001b[38;5;124m\"\u001b[39m, \u001b[38;5;124m\"\u001b[39m\u001b[38;5;124mrb\u001b[39m\u001b[38;5;124m\"\u001b[39m) \u001b[38;5;28;01mas\u001b[39;00m f:\n\u001b[1;32m----> 2\u001b[0m     runs \u001b[38;5;241m=\u001b[39m \u001b[43mpickle\u001b[49m\u001b[38;5;241;43m.\u001b[39;49m\u001b[43mload\u001b[49m\u001b[43m(\u001b[49m\u001b[43mf\u001b[49m\u001b[43m)\u001b[49m\n",
      "\u001b[1;31mEOFError\u001b[0m: Ran out of input"
     ]
    }
   ],
   "source": [
    "with open(\"filtered.pkl\", \"rb\") as f:\n",
    "    runs = pickle.load(f)"
   ]
  },
  {
   "cell_type": "code",
   "execution_count": 8,
   "id": "92210342",
   "metadata": {},
   "outputs": [
    {
     "ename": "NameError",
     "evalue": "name 'runs' is not defined",
     "output_type": "error",
     "traceback": [
      "\u001b[1;31m---------------------------------------------------------------------------\u001b[0m",
      "\u001b[1;31mNameError\u001b[0m                                 Traceback (most recent call last)",
      "Input \u001b[1;32mIn [8]\u001b[0m, in \u001b[0;36m<cell line: 1>\u001b[1;34m()\u001b[0m\n\u001b[1;32m----> 1\u001b[0m dataset \u001b[38;5;241m=\u001b[39m Data(\u001b[38;5;124m\"\u001b[39m\u001b[38;5;124mD:/SamplingResults\u001b[39m\u001b[38;5;124m\"\u001b[39m, \u001b[38;5;124m\"\u001b[39m\u001b[38;5;124mC:/Users/rjsou/Documents/MastersDiss/Sampling/Samples.pkl\u001b[39m\u001b[38;5;124m\"\u001b[39m, \u001b[43mruns\u001b[49m)\n",
      "\u001b[1;31mNameError\u001b[0m: name 'runs' is not defined"
     ]
    }
   ],
   "source": [
    "dataset = Data(\"D:/SamplingResults\", \"C:/Users/rjsou/Documents/MastersDiss/Sampling/Samples.pkl\", runs)"
   ]
  },
  {
   "cell_type": "code",
   "execution_count": 3,
   "id": "84a920e6",
   "metadata": {},
   "outputs": [
    {
     "ename": "NameError",
     "evalue": "name 'c' is not defined",
     "output_type": "error",
     "traceback": [
      "\u001b[1;31m---------------------------------------------------------------------------\u001b[0m",
      "\u001b[1;31mNameError\u001b[0m                                 Traceback (most recent call last)",
      "Input \u001b[1;32mIn [3]\u001b[0m, in \u001b[0;36m<cell line: 6>\u001b[1;34m()\u001b[0m\n\u001b[0;32m      4\u001b[0m fig, ax \u001b[38;5;241m=\u001b[39m plt\u001b[38;5;241m.\u001b[39msubplots(\u001b[38;5;241m1\u001b[39m, \u001b[38;5;241m1\u001b[39m)\n\u001b[0;32m      5\u001b[0m xNew \u001b[38;5;241m=\u001b[39m np\u001b[38;5;241m.\u001b[39mlinspace(\u001b[38;5;241m0\u001b[39m, \u001b[38;5;241m7\u001b[39m, num\u001b[38;5;241m=\u001b[39m\u001b[38;5;241m128\u001b[39m, endpoint\u001b[38;5;241m=\u001b[39m\u001b[38;5;28;01mTrue\u001b[39;00m)\n\u001b[1;32m----> 6\u001b[0m interped \u001b[38;5;241m=\u001b[39m interp1d(\u001b[43mc\u001b[49m[\u001b[38;5;124m'\u001b[39m\u001b[38;5;124mx\u001b[39m\u001b[38;5;124m'\u001b[39m], c[\u001b[38;5;124m'\u001b[39m\u001b[38;5;124my\u001b[39m\u001b[38;5;124m'\u001b[39m], kind\u001b[38;5;241m=\u001b[39m\u001b[38;5;124m'\u001b[39m\u001b[38;5;124mcubic\u001b[39m\u001b[38;5;124m'\u001b[39m, fill_value\u001b[38;5;241m=\u001b[39m\u001b[38;5;124m\"\u001b[39m\u001b[38;5;124mextrapolate\u001b[39m\u001b[38;5;124m\"\u001b[39m)(xNew)\n\u001b[0;32m      8\u001b[0m ax\u001b[38;5;241m.\u001b[39mplot(xNew, interped)\n\u001b[0;32m     10\u001b[0m gs \u001b[38;5;241m=\u001b[39m np\u001b[38;5;241m.\u001b[39mgradient(interped)\n",
      "\u001b[1;31mNameError\u001b[0m: name 'c' is not defined"
     ]
    },
    {
     "data": {
      "image/png": "[encoded data removed]",
      "text/plain": [
       "<Figure size 432x288 with 1 Axes>"
      ]
     },
     "metadata": {
      "needs_background": "light"
     },
     "output_type": "display_data"
    }
   ],
   "source": [
    "from scipy.ndimage import gaussian_filter1d\n",
    "from scipy.interpolate import interp1d\n",
    "\n",
    "fig, ax = plt.subplots(1, 1)\n",
    "xNew = np.linspace(0, 7, num=128, endpoint=True)\n",
    "interped = interp1d(c['x'], c['y'], kind='cubic', fill_value=\"extrapolate\")(xNew)\n",
    "\n",
    "ax.plot(xNew, interped)\n",
    "\n",
    "gs = np.gradient(interped)\n",
    "diffs = []\n",
    "ind = []\n",
    "\n",
    "# Find suction gradient changes\n",
    "for i in range(1, len(gs)):\n",
    "    diff = abs(gs[i]-gs[i-1])\n",
    "    if i == 1:\n",
    "        continue\n",
    "    if len(ind) > 2:\n",
    "        break\n",
    "    if diff > np.mean(diffs) or diff < np.mean(diffs)*0.25:\n",
    "        ind.append(i)\n",
    "        diffs = []\n",
    "    else:\n",
    "        diffs.append(diff)\n",
    "\n",
    "ymax = interped.max()\n",
    "found = False\n",
    "idx = 0\n",
    "for i in range(len(interped)):\n",
    "    if found == True:\n",
    "        if interped[i] < ymax:\n",
    "            idx = i-1\n",
    "            break\n",
    "    elif interped[i] == ymax:\n",
    "        found = True\n",
    "\n",
    "for i in range(idx, len(gs)):\n",
    "    diff = abs(gs[i]-gs[i-1])\n",
    "    if i == 1:\n",
    "        continue\n",
    "    if len(ind) > 6:\n",
    "        break\n",
    "    if diff > np.mean(diffs) or diff < np.mean(diffs)*0.25:\n",
    "        ind.append(i)\n",
    "        diffs = []\n",
    "    else:\n",
    "        diffs.append(diff)\n",
    "        \n",
    "        \n",
    "ax.vlines(xNew[ind], min(c['y']), max(c['y']), colors=\"black\")\n",
    "#ax.vlines(xNew[idx], min(c['y']), max(c['y']), colors=\"red\")"
   ]
  },
  {
   "cell_type": "code",
   "execution_count": null,
   "id": "b7477e8e",
   "metadata": {},
   "outputs": [],
   "source": []
  }
 ],
 "metadata": {
  "kernelspec": {
   "display_name": "Python 3 (ipykernel)",
   "language": "python",
   "name": "python3"
  },
  "language_info": {
   "codemirror_mode": {
    "name": "ipython",
    "version": 3
   },
   "file_extension": ".py",
   "mimetype": "text/x-python",
   "name": "python",
   "nbconvert_exporter": "python",
   "pygments_lexer": "ipython3",
   "version": "3.10.9"
  }
 },
 "nbformat": 4,
 "nbformat_minor": 5
}

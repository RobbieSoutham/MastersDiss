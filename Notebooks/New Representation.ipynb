{
 "cells": [
  {
   "cell_type": "code",
   "execution_count": 20,
   "id": "e4be6cec",
   "metadata": {},
   "outputs": [],
   "source": [
    "import pickle\n",
    "import numpy as np\n",
    "import matplotlib.pyplot as plt\n",
    "import os\n",
    "import pandas as pd\n",
    "from scipy.interpolate import interp1d\n",
    "from torch.utils.data import Dataset\n",
    "from torch import tensor\n",
    "from tqdm import tqdm\n",
    "import torch"
   ]
  },
  {
   "cell_type": "markdown",
   "id": "0358d3ae",
   "metadata": {},
   "source": [
    "# Dataset"
   ]
  },
  {
   "cell_type": "code",
   "execution_count": 49,
   "id": "19bcb8c3",
   "metadata": {},
   "outputs": [],
   "source": [
    "# Folder name will correspond to index of sample\n",
    "curves = []\n",
    "\n",
    "def getCurves(runs, signalFolder=\"D:/SamplingResults2\"):\n",
    "    for run in tqdm(runs): #os.listdir(f\"{signalFolder}/\"):  \n",
    "        fail = False\n",
    "        probes = []\n",
    "\n",
    "        files = os.listdir(f\"{signalFolder}/{run}/\")\n",
    "\n",
    "        if files != ['Disp1.csv', 'Disp2.csv']:\n",
    "            continue\n",
    "\n",
    "        for file in files:\n",
    "            a = pd.read_csv(f\"{signalFolder}/{run}/{file}\")\n",
    "            a.rename(columns = {'0':'x', '0.1': 'y'}, inplace = True)\n",
    "\n",
    "            if a['x'].max() != 7.0:\n",
    "                fail = True\n",
    "                break\n",
    "            probes.append(a)\n",
    "        if not fail:\n",
    "            if len(probes) != 2:\n",
    "                raise Exception(\"sdf\")\n",
    "\n",
    "            curves.append(probes)\n",
    "    return curves\n",
    "    "
   ]
  },
  {
   "cell_type": "code",
   "execution_count": 50,
   "id": "5718c28b",
   "metadata": {},
   "outputs": [],
   "source": [
    "with open(\"../Data/filtered.pkl\", \"rb\") as f:\n",
    "    runs = pickle.load(f)"
   ]
  },
  {
   "cell_type": "code",
   "execution_count": 51,
   "id": "92210342",
   "metadata": {},
   "outputs": [
    {
     "name": "stderr",
     "output_type": "stream",
     "text": [
      "100%|█████████████████████████████████████████████████████████████████████████████| 2241/2241 [00:08<00:00, 262.83it/s]\n"
     ]
    }
   ],
   "source": [
    "curves = getCurves(runs)"
   ]
  },
  {
   "cell_type": "code",
   "execution_count": 478,
   "id": "85e7e5b4",
   "metadata": {},
   "outputs": [],
   "source": [
    "c = curves[0][0]"
   ]
  },
  {
   "cell_type": "code",
   "execution_count": 479,
   "id": "bff9371f",
   "metadata": {},
   "outputs": [
    {
     "data": {
      "text/html": [
       "<div>\n",
       "<style scoped>\n",
       "    .dataframe tbody tr th:only-of-type {\n",
       "        vertical-align: middle;\n",
       "    }\n",
       "\n",
       "    .dataframe tbody tr th {\n",
       "        vertical-align: top;\n",
       "    }\n",
       "\n",
       "    .dataframe thead th {\n",
       "        text-align: right;\n",
       "    }\n",
       "</style>\n",
       "<table border=\"1\" class=\"dataframe\">\n",
       "  <thead>\n",
       "    <tr style=\"text-align: right;\">\n",
       "      <th></th>\n",
       "      <th>x</th>\n",
       "      <th>y</th>\n",
       "    </tr>\n",
       "  </thead>\n",
       "  <tbody>\n",
       "    <tr>\n",
       "      <th>0</th>\n",
       "      <td>0.005000</td>\n",
       "      <td>0.000000</td>\n",
       "    </tr>\n",
       "    <tr>\n",
       "      <th>1</th>\n",
       "      <td>0.011000</td>\n",
       "      <td>0.000125</td>\n",
       "    </tr>\n",
       "    <tr>\n",
       "      <th>2</th>\n",
       "      <td>0.017800</td>\n",
       "      <td>0.000322</td>\n",
       "    </tr>\n",
       "    <tr>\n",
       "      <th>3</th>\n",
       "      <td>0.025240</td>\n",
       "      <td>0.000580</td>\n",
       "    </tr>\n",
       "    <tr>\n",
       "      <th>4</th>\n",
       "      <td>0.033192</td>\n",
       "      <td>0.000886</td>\n",
       "    </tr>\n",
       "    <tr>\n",
       "      <th>...</th>\n",
       "      <td>...</td>\n",
       "      <td>...</td>\n",
       "    </tr>\n",
       "    <tr>\n",
       "      <th>706</th>\n",
       "      <td>6.961142</td>\n",
       "      <td>-0.000053</td>\n",
       "    </tr>\n",
       "    <tr>\n",
       "      <th>707</th>\n",
       "      <td>6.971062</td>\n",
       "      <td>-0.000053</td>\n",
       "    </tr>\n",
       "    <tr>\n",
       "      <th>708</th>\n",
       "      <td>6.980997</td>\n",
       "      <td>-0.000053</td>\n",
       "    </tr>\n",
       "    <tr>\n",
       "      <th>709</th>\n",
       "      <td>6.990945</td>\n",
       "      <td>-0.000053</td>\n",
       "    </tr>\n",
       "    <tr>\n",
       "      <th>710</th>\n",
       "      <td>7.000000</td>\n",
       "      <td>-0.000053</td>\n",
       "    </tr>\n",
       "  </tbody>\n",
       "</table>\n",
       "<p>711 rows × 2 columns</p>\n",
       "</div>"
      ],
      "text/plain": [
       "            x         y\n",
       "0    0.005000  0.000000\n",
       "1    0.011000  0.000125\n",
       "2    0.017800  0.000322\n",
       "3    0.025240  0.000580\n",
       "4    0.033192  0.000886\n",
       "..        ...       ...\n",
       "706  6.961142 -0.000053\n",
       "707  6.971062 -0.000053\n",
       "708  6.980997 -0.000053\n",
       "709  6.990945 -0.000053\n",
       "710  7.000000 -0.000053\n",
       "\n",
       "[711 rows x 2 columns]"
      ]
     },
     "execution_count": 479,
     "metadata": {},
     "output_type": "execute_result"
    }
   ],
   "source": [
    "c"
   ]
  },
  {
   "cell_type": "code",
   "execution_count": 484,
   "id": "84a920e6",
   "metadata": {},
   "outputs": [
    {
     "name": "stdout",
     "output_type": "stream",
     "text": [
      "[3, 90, 92, 100]\n"
     ]
    },
    {
     "name": "stderr",
     "output_type": "stream",
     "text": [
      "C:\\Users\\rjsou\\AppData\\Local\\Programs\\Python\\Python310\\lib\\site-packages\\numpy\\core\\fromnumeric.py:3464: RuntimeWarning: Mean of empty slice.\n",
      "  return _methods._mean(a, axis=axis, dtype=dtype,\n",
      "C:\\Users\\rjsou\\AppData\\Local\\Programs\\Python\\Python310\\lib\\site-packages\\numpy\\core\\_methods.py:192: RuntimeWarning: invalid value encountered in scalar divide\n",
      "  ret = ret.dtype.type(ret / rcount)\n"
     ]
    },
    {
     "data": {
      "text/plain": [
       "<matplotlib.collections.LineCollection at 0x26a33445780>"
      ]
     },
     "execution_count": 484,
     "metadata": {},
     "output_type": "execute_result"
    },
    {
     "data": {
      "image/png": "[encoded data removed]",
      "text/plain": [
       "<Figure size 432x288 with 1 Axes>"
      ]
     },
     "metadata": {
      "needs_background": "light"
     },
     "output_type": "display_data"
    }
   ],
   "source": [
    "from scipy.ndimage import gaussian_filter1d\n",
    "from scipy.interpolate import interp1d\n",
    "\n",
    "fig, ax = plt.subplots(1, 1)\n",
    "xNew = np.linspace(0, 7, num=128, endpoint=True)\n",
    "interped = interp1d(c['x'], c['y'], kind='cubic', fill_value=\"extrapolate\")(xNew)\n",
    "\n",
    "ax.plot(xNew, interped)\n",
    "\n",
    "gs = np.gradient(interped)\n",
    "diffs = []\n",
    "ind = []\n",
    "\n",
    "# Find suction gradient changes\n",
    "for i in range(1, len(gs)):\n",
    "    diff = abs(gs[i]-gs[i-1])\n",
    "    if i == 1:\n",
    "        continue\n",
    "    if len(ind) > 1:\n",
    "        break\n",
    "    if diff > np.mean(diffs)*1.25:\n",
    "        ind.append(i)\n",
    "        diffs = []\n",
    "    else:\n",
    "        diffs.append(diff)\n",
    "\n",
    "ymax = interped.max()\n",
    "found = False\n",
    "idx = 0\n",
    "for i in range(len(interped)):\n",
    "    if found == True:\n",
    "        if interped[i] < ymax:\n",
    "            idx = i-1\n",
    "            break\n",
    "    elif interped[i] == ymax:\n",
    "        found = True\n",
    "\n",
    "end_phase = False\n",
    "for i in range(idx+1, len(gs)-1):\n",
    "    diff = abs(gs[i]-gs[i+1])\n",
    "\n",
    "    if len(ind) > 4:\n",
    "        break\n",
    "        \n",
    "    if diff > np.mean(diffs)/1.5 and  i - ind[-1] > 0:\n",
    "        ind.append(i)\n",
    "        diffs = []\n",
    "    else:\n",
    "        diffs.append(diff)\n",
    "        \n",
    "        \n",
    "\n",
    "print(ind)\n",
    "ax.vlines(xNew[ind], min(c['y']), max(c['y']), colors=\"black\")\n",
    "#ax.vlines(xNew[idx], min(c['y']), max(c['y']), colors=\"red\")"
   ]
  },
  {
   "cell_type": "code",
   "execution_count": 481,
   "id": "b7477e8e",
   "metadata": {},
   "outputs": [],
   "source": [
    "def piecewise_interpolation(curve, num_points=5, threshold=0.00001):\n",
    "    \"\"\"\n",
    "    Performs piecewise interpolation of a curve by identifying points at which the gradient changes significantly.\n",
    "\n",
    "    Args:\n",
    "        curve (np.ndarray): Array containing the curve to be interpolated.\n",
    "        num_points (int): Number of points to be identified on the curve.\n",
    "        threshold (float): Threshold value for detecting significant changes in the gradient.\n",
    "\n",
    "    Returns:\n",
    "        List of indices representing the identified points on the curve.\n",
    "    \"\"\"\n",
    "    indices = [0]  # start with the first point\n",
    "\n",
    "    # Calculate the gradient between each point and compare against the threshold to identify significant changes\n",
    "    grad = np.gradient(curve)\n",
    "    phase_step = 30\n",
    "    max_y = np.argmax(curve)\n",
    "    #print(max_y)\n",
    "    #max_y = max(np.argwhere(curve == curve[idx]))\n",
    "    #print(max_y)\n",
    "    \n",
    "    \n",
    "    end_phase = False\n",
    "    for i in range(1, len(curve)):\n",
    "        if end_phase and i < max_y:\n",
    "            continue\n",
    "            \n",
    "        if end_phase:\n",
    "            print(max_y)\n",
    "       \n",
    "        if abs(grad[i] - grad[indices[-1]]) > threshold:\n",
    "            if i - indices[-1] < phase_step:\n",
    "                continue\n",
    "            indices.append(i)\n",
    "            \n",
    "        if len(indices) > 2:\n",
    "            end_phase = True\n",
    "            # Move to end of suction phase\n",
    "                \n",
    "            if len(indices) == num_points:  # exit early if all points have been identified\n",
    "                break\n",
    "    \n",
    "    return indices[1:]"
   ]
  },
  {
   "cell_type": "code",
   "execution_count": 482,
   "id": "b2a5e0e6",
   "metadata": {},
   "outputs": [
    {
     "name": "stdout",
     "output_type": "stream",
     "text": [
      "501\n",
      "501\n",
      "501\n",
      "501\n",
      "501\n",
      "501\n",
      "501\n",
      "501\n",
      "501\n",
      "501\n",
      "501\n",
      "501\n",
      "501\n",
      "501\n",
      "501\n",
      "501\n",
      "501\n",
      "501\n",
      "501\n",
      "501\n",
      "501\n",
      "501\n",
      "501\n",
      "501\n",
      "501\n",
      "501\n",
      "501\n",
      "501\n",
      "501\n",
      "501\n",
      "501\n",
      "501\n",
      "501\n",
      "501\n",
      "501\n",
      "501\n",
      "501\n",
      "501\n",
      "501\n",
      "501\n",
      "501\n",
      "501\n",
      "501\n",
      "501\n",
      "501\n",
      "501\n",
      "501\n",
      "501\n",
      "501\n",
      "501\n",
      "501\n",
      "501\n",
      "501\n",
      "501\n",
      "501\n",
      "501\n",
      "501\n",
      "501\n",
      "501\n",
      "501\n",
      "[113, 501, 531, 561]\n",
      "113    1.115\n",
      "501    4.995\n",
      "531    5.295\n",
      "561    5.595\n",
      "Name: x, dtype: float64\n"
     ]
    },
    {
     "data": {
      "text/plain": [
       "<matplotlib.collections.LineCollection at 0x26a2ef41510>"
      ]
     },
     "execution_count": 482,
     "metadata": {},
     "output_type": "execute_result"
    },
    {
     "data": {
      "image/png": "[encoded data removed]",
      "text/plain": [
       "<Figure size 432x288 with 1 Axes>"
      ]
     },
     "metadata": {
      "needs_background": "light"
     },
     "output_type": "display_data"
    }
   ],
   "source": [
    "c = curves[50][1]\n",
    "new = piecewise_interpolation(c['y'])\n",
    "print(new)\n",
    "new = c['x'][new]\n",
    "print(new)\n",
    "fig, ax = plt.subplots(1, 1)\n",
    "c.plot(x='x', y='y', ax=ax)\n",
    "ax.vlines(new, min(c['y']), max(c['y']), colors=\"black\")"
   ]
  },
  {
   "cell_type": "code",
   "execution_count": 426,
   "id": "33025fbb",
   "metadata": {},
   "outputs": [
    {
     "data": {
      "text/plain": [
       "array([4, 6], dtype=int64)"
      ]
     },
     "execution_count": 426,
     "metadata": {},
     "output_type": "execute_result"
    }
   ],
   "source": [
    "a = np.array([3, 3, 3, 5, 6, 2, 6])\n",
    "b = np.argmax(a)\n",
    "max(np.where(a[b] == a))"
   ]
  },
  {
   "cell_type": "code",
   "execution_count": null,
   "id": "31578412",
   "metadata": {},
   "outputs": [],
   "source": []
  }
 ],
 "metadata": {
  "kernelspec": {
   "display_name": "Python 3 (ipykernel)",
   "language": "python",
   "name": "python3"
  },
  "language_info": {
   "codemirror_mode": {
    "name": "ipython",
    "version": 3
   },
   "file_extension": ".py",
   "mimetype": "text/x-python",
   "name": "python",
   "nbconvert_exporter": "python",
   "pygments_lexer": "ipython3",
   "version": "3.10.9"
  }
 },
 "nbformat": 4,
 "nbformat_minor": 5
}
